{
 "cells": [
  {
   "cell_type": "code",
   "execution_count": 13,
   "id": "c4f289a1",
   "metadata": {},
   "outputs": [
    {
     "name": "stdout",
     "output_type": "stream",
     "text": [
      "Name: Durga Srinesh Varanasi Yugandar, BlazerId: dvaranas\n",
      "Problem 1 : 3 + 5? :- 8\n",
      "Problem 2 : 7 * 6? :- 42\n",
      "Problem 3 : 20 / 5? :- 4.0\n",
      "Problem 4 : 20 / 4? :- 5.0\n",
      "Problem 5 : 15 - 7? :- 8\n",
      "Problem 6 : 9 * 9? :- 81\n",
      "Problem 7 : 27 / 9? :- 3.0\n",
      "Problem 8 : 100 - 56? :- 44\n",
      "Problem 9 : 14 + 26? :- 40\n",
      "Problem 10 : 64 / 8? :- 8.0\n"
     ]
    }
   ],
   "source": [
    "import requests\n",
    "import json\n",
    "url = \"https://michaelgathara.com/api/python-challenge\"\n",
    "response=requests.get(url)\n",
    "challenges = response.json()\n",
    "# print(challenges)\n",
    "print(\"Name: Durga Srinesh Varanasi Yugandar, BlazerId: dvaranas\")\n",
    "for ch in challenges:\n",
    "    answer = ch['problem'].replace(\"?\",\"\")\n",
    "    print(\"Problem\",ch['id'],\":\",ch['problem'],\":-\" ,eval(answer))"
   ]
  },
  {
   "cell_type": "code",
   "execution_count": null,
   "id": "c1d8b04b",
   "metadata": {},
   "outputs": [],
   "source": []
  }
 ],
 "metadata": {
  "kernelspec": {
   "display_name": "Python 3 (ipykernel)",
   "language": "python",
   "name": "python3"
  },
  "language_info": {
   "codemirror_mode": {
    "name": "ipython",
    "version": 3
   },
   "file_extension": ".py",
   "mimetype": "text/x-python",
   "name": "python",
   "nbconvert_exporter": "python",
   "pygments_lexer": "ipython3",
   "version": "3.9.13"
  }
 },
 "nbformat": 4,
 "nbformat_minor": 5
}
